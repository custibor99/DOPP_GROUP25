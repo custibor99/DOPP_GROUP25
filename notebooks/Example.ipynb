{
 "cells": [
  {
   "cell_type": "code",
   "execution_count": 12,
   "id": "084f4736-e833-4846-b516-18cea36af010",
   "metadata": {
    "ExecuteTime": {
     "end_time": "2024-01-05T13:57:15.286117200Z",
     "start_time": "2024-01-05T13:57:15.261932500Z"
    }
   },
   "outputs": [],
   "source": [
    "import pandas as pd\n",
    "import networkx as nx"
   ]
  },
  {
   "cell_type": "markdown",
   "id": "f24ec2ac-a8d8-4c55-bfeb-7c7cc91d82df",
   "metadata": {},
   "source": [
    "# Airport data"
   ]
  },
  {
   "cell_type": "code",
   "execution_count": 13,
   "id": "bb96822f-1208-4752-81ea-beb5142bf8ad",
   "metadata": {
    "ExecuteTime": {
     "end_time": "2024-01-05T13:57:15.296117Z",
     "start_time": "2024-01-05T13:57:15.288116700Z"
    }
   },
   "outputs": [
    {
     "data": {
      "text/plain": "                     Airport  Country IATA airport code ICAO airport code  \\\n0             Tirana Airport  Albania               TIA              LATI   \n1  Yerevan Zvartnots Airport  Armenia               EVN              UDYZ   \n2               Graz Airport  Austria               GRZ              LOWG   \n3          Innsbruck Airport  Austria               INN              LOWI   \n4         Klagenfurt Airport  Austria               KLU              LOWK   \n\n         city  \n0      Tirana  \n1   Zvartnots  \n2        Graz  \n3   Innsbruck  \n4  Klagenfurt  ",
      "text/html": "<div>\n<style scoped>\n    .dataframe tbody tr th:only-of-type {\n        vertical-align: middle;\n    }\n\n    .dataframe tbody tr th {\n        vertical-align: top;\n    }\n\n    .dataframe thead th {\n        text-align: right;\n    }\n</style>\n<table border=\"1\" class=\"dataframe\">\n  <thead>\n    <tr style=\"text-align: right;\">\n      <th></th>\n      <th>Airport</th>\n      <th>Country</th>\n      <th>IATA airport code</th>\n      <th>ICAO airport code</th>\n      <th>city</th>\n    </tr>\n  </thead>\n  <tbody>\n    <tr>\n      <th>0</th>\n      <td>Tirana Airport</td>\n      <td>Albania</td>\n      <td>TIA</td>\n      <td>LATI</td>\n      <td>Tirana</td>\n    </tr>\n    <tr>\n      <th>1</th>\n      <td>Yerevan Zvartnots Airport</td>\n      <td>Armenia</td>\n      <td>EVN</td>\n      <td>UDYZ</td>\n      <td>Zvartnots</td>\n    </tr>\n    <tr>\n      <th>2</th>\n      <td>Graz Airport</td>\n      <td>Austria</td>\n      <td>GRZ</td>\n      <td>LOWG</td>\n      <td>Graz</td>\n    </tr>\n    <tr>\n      <th>3</th>\n      <td>Innsbruck Airport</td>\n      <td>Austria</td>\n      <td>INN</td>\n      <td>LOWI</td>\n      <td>Innsbruck</td>\n    </tr>\n    <tr>\n      <th>4</th>\n      <td>Klagenfurt Airport</td>\n      <td>Austria</td>\n      <td>KLU</td>\n      <td>LOWK</td>\n      <td>Klagenfurt</td>\n    </tr>\n  </tbody>\n</table>\n</div>"
     },
     "execution_count": 13,
     "metadata": {},
     "output_type": "execute_result"
    }
   ],
   "source": [
    "airport_metadata = pd.read_csv(\"../data/airport_metadata.csv\")\n",
    "airport_metadata.head()"
   ]
  },
  {
   "cell_type": "code",
   "execution_count": 14,
   "id": "e00b7620-f603-4b61-b734-12f559969e44",
   "metadata": {
    "ExecuteTime": {
     "end_time": "2024-01-05T13:57:15.339184400Z",
     "start_time": "2024-01-05T13:57:15.296117Z"
    }
   },
   "outputs": [
    {
     "data": {
      "text/plain": "  iata_code       lat       lng\n0       TIA  41.42190  19.71296\n1       EVN  40.15250  44.40222\n2       GRZ  46.99107  15.43963\n3       INN  47.26022  11.34396\n4       KLU  46.64500  14.32667",
      "text/html": "<div>\n<style scoped>\n    .dataframe tbody tr th:only-of-type {\n        vertical-align: middle;\n    }\n\n    .dataframe tbody tr th {\n        vertical-align: top;\n    }\n\n    .dataframe thead th {\n        text-align: right;\n    }\n</style>\n<table border=\"1\" class=\"dataframe\">\n  <thead>\n    <tr style=\"text-align: right;\">\n      <th></th>\n      <th>iata_code</th>\n      <th>lat</th>\n      <th>lng</th>\n    </tr>\n  </thead>\n  <tbody>\n    <tr>\n      <th>0</th>\n      <td>TIA</td>\n      <td>41.42190</td>\n      <td>19.71296</td>\n    </tr>\n    <tr>\n      <th>1</th>\n      <td>EVN</td>\n      <td>40.15250</td>\n      <td>44.40222</td>\n    </tr>\n    <tr>\n      <th>2</th>\n      <td>GRZ</td>\n      <td>46.99107</td>\n      <td>15.43963</td>\n    </tr>\n    <tr>\n      <th>3</th>\n      <td>INN</td>\n      <td>47.26022</td>\n      <td>11.34396</td>\n    </tr>\n    <tr>\n      <th>4</th>\n      <td>KLU</td>\n      <td>46.64500</td>\n      <td>14.32667</td>\n    </tr>\n  </tbody>\n</table>\n</div>"
     },
     "execution_count": 14,
     "metadata": {},
     "output_type": "execute_result"
    }
   ],
   "source": [
    "airport_coordinates = pd.read_csv(\"../data/airport_coordinates.csv\")\n",
    "airport_coordinates.head()"
   ]
  },
  {
   "cell_type": "code",
   "execution_count": 15,
   "id": "2ee44e04-10d5-494f-9660-6c11e669683c",
   "metadata": {
    "ExecuteTime": {
     "end_time": "2024-01-05T13:57:15.375184200Z",
     "start_time": "2024-01-05T13:57:15.312120900Z"
    }
   },
   "outputs": [
    {
     "data": {
      "text/plain": "                     Airport  Country IATA airport code ICAO airport code  \\\n0             Tirana Airport  Albania               TIA              LATI   \n1  Yerevan Zvartnots Airport  Armenia               EVN              UDYZ   \n2               Graz Airport  Austria               GRZ              LOWG   \n3          Innsbruck Airport  Austria               INN              LOWI   \n4         Klagenfurt Airport  Austria               KLU              LOWK   \n\n         city iata_code       lat       lng  \n0      Tirana       TIA  41.42190  19.71296  \n1   Zvartnots       EVN  40.15250  44.40222  \n2        Graz       GRZ  46.99107  15.43963  \n3   Innsbruck       INN  47.26022  11.34396  \n4  Klagenfurt       KLU  46.64500  14.32667  ",
      "text/html": "<div>\n<style scoped>\n    .dataframe tbody tr th:only-of-type {\n        vertical-align: middle;\n    }\n\n    .dataframe tbody tr th {\n        vertical-align: top;\n    }\n\n    .dataframe thead th {\n        text-align: right;\n    }\n</style>\n<table border=\"1\" class=\"dataframe\">\n  <thead>\n    <tr style=\"text-align: right;\">\n      <th></th>\n      <th>Airport</th>\n      <th>Country</th>\n      <th>IATA airport code</th>\n      <th>ICAO airport code</th>\n      <th>city</th>\n      <th>iata_code</th>\n      <th>lat</th>\n      <th>lng</th>\n    </tr>\n  </thead>\n  <tbody>\n    <tr>\n      <th>0</th>\n      <td>Tirana Airport</td>\n      <td>Albania</td>\n      <td>TIA</td>\n      <td>LATI</td>\n      <td>Tirana</td>\n      <td>TIA</td>\n      <td>41.42190</td>\n      <td>19.71296</td>\n    </tr>\n    <tr>\n      <th>1</th>\n      <td>Yerevan Zvartnots Airport</td>\n      <td>Armenia</td>\n      <td>EVN</td>\n      <td>UDYZ</td>\n      <td>Zvartnots</td>\n      <td>EVN</td>\n      <td>40.15250</td>\n      <td>44.40222</td>\n    </tr>\n    <tr>\n      <th>2</th>\n      <td>Graz Airport</td>\n      <td>Austria</td>\n      <td>GRZ</td>\n      <td>LOWG</td>\n      <td>Graz</td>\n      <td>GRZ</td>\n      <td>46.99107</td>\n      <td>15.43963</td>\n    </tr>\n    <tr>\n      <th>3</th>\n      <td>Innsbruck Airport</td>\n      <td>Austria</td>\n      <td>INN</td>\n      <td>LOWI</td>\n      <td>Innsbruck</td>\n      <td>INN</td>\n      <td>47.26022</td>\n      <td>11.34396</td>\n    </tr>\n    <tr>\n      <th>4</th>\n      <td>Klagenfurt Airport</td>\n      <td>Austria</td>\n      <td>KLU</td>\n      <td>LOWK</td>\n      <td>Klagenfurt</td>\n      <td>KLU</td>\n      <td>46.64500</td>\n      <td>14.32667</td>\n    </tr>\n  </tbody>\n</table>\n</div>"
     },
     "execution_count": 15,
     "metadata": {},
     "output_type": "execute_result"
    }
   ],
   "source": [
    "airport_data = airport_metadata.merge(airport_coordinates, left_on=\"IATA airport code\", right_on=\"iata_code\")\n",
    "airport_data.head()"
   ]
  },
  {
   "cell_type": "markdown",
   "id": "2ec7a722-d5c4-4794-a2ab-1bf5111c128a",
   "metadata": {},
   "source": [
    "# Country data"
   ]
  },
  {
   "cell_type": "code",
   "execution_count": 16,
   "id": "9d3deb07-d9f3-4453-830f-e17321da6bcc",
   "metadata": {
    "ExecuteTime": {
     "end_time": "2024-01-05T13:57:15.396185400Z",
     "start_time": "2024-01-05T13:57:15.328185Z"
    }
   },
   "outputs": [
    {
     "data": {
      "text/plain": "      Country iso_country_code                    neighbors\n0     Albania              ALB                  MNE,GRC,MKD\n1     Armenia              ARM                  AZE,GEO,TUR\n2     Austria              AUT  CZE,DEU,HUN,ITA,SVK,SVN,CHE\n3  Azerbaijan              AZE              ARM,GEO,RUS,TUR\n4     Belarus              BLR          LVA,LTU,POL,RUS,UKR",
      "text/html": "<div>\n<style scoped>\n    .dataframe tbody tr th:only-of-type {\n        vertical-align: middle;\n    }\n\n    .dataframe tbody tr th {\n        vertical-align: top;\n    }\n\n    .dataframe thead th {\n        text-align: right;\n    }\n</style>\n<table border=\"1\" class=\"dataframe\">\n  <thead>\n    <tr style=\"text-align: right;\">\n      <th></th>\n      <th>Country</th>\n      <th>iso_country_code</th>\n      <th>neighbors</th>\n    </tr>\n  </thead>\n  <tbody>\n    <tr>\n      <th>0</th>\n      <td>Albania</td>\n      <td>ALB</td>\n      <td>MNE,GRC,MKD</td>\n    </tr>\n    <tr>\n      <th>1</th>\n      <td>Armenia</td>\n      <td>ARM</td>\n      <td>AZE,GEO,TUR</td>\n    </tr>\n    <tr>\n      <th>2</th>\n      <td>Austria</td>\n      <td>AUT</td>\n      <td>CZE,DEU,HUN,ITA,SVK,SVN,CHE</td>\n    </tr>\n    <tr>\n      <th>3</th>\n      <td>Azerbaijan</td>\n      <td>AZE</td>\n      <td>ARM,GEO,RUS,TUR</td>\n    </tr>\n    <tr>\n      <th>4</th>\n      <td>Belarus</td>\n      <td>BLR</td>\n      <td>LVA,LTU,POL,RUS,UKR</td>\n    </tr>\n  </tbody>\n</table>\n</div>"
     },
     "execution_count": 16,
     "metadata": {},
     "output_type": "execute_result"
    }
   ],
   "source": [
    "country_metadata = pd.read_csv(\"../data/country_metadata.csv\")\n",
    "country_metadata.head()"
   ]
  },
  {
   "cell_type": "code",
   "execution_count": 16,
   "id": "43a20e3a-cea1-463d-bf34-cac7abd9a730",
   "metadata": {
    "ExecuteTime": {
     "end_time": "2024-01-05T13:57:15.421431500Z",
     "start_time": "2024-01-05T13:57:15.344184700Z"
    }
   },
   "outputs": [],
   "source": []
  },
  {
   "cell_type": "markdown",
   "id": "43d63229-e608-438b-b696-eebf6e7d8e6e",
   "metadata": {},
   "source": [
    "# Chronotrain data"
   ]
  },
  {
   "cell_type": "code",
   "execution_count": 17,
   "id": "2566df3a-6fc1-4e31-85fb-b0ab9930f3bc",
   "metadata": {
    "ExecuteTime": {
     "end_time": "2024-01-05T13:57:15.443431500Z",
     "start_time": "2024-01-05T13:57:15.360186100Z"
    }
   },
   "outputs": [
    {
     "data": {
      "text/plain": "   chronotrain_id        city                    Airport  Country  \\\n0       8302063.0      Tirana             Tirana Airport  Albania   \n1             NaN   Zvartnots  Yerevan Zvartnots Airport  Armenia   \n2       2778067.0        Graz               Graz Airport  Austria   \n3       2775220.0   Innsbruck          Innsbruck Airport  Austria   \n4       2774326.0  Klagenfurt         Klagenfurt Airport  Austria   \n\n  IATA airport code ICAO airport code  \n0               TIA              LATI  \n1               EVN              UDYZ  \n2               GRZ              LOWG  \n3               INN              LOWI  \n4               KLU              LOWK  ",
      "text/html": "<div>\n<style scoped>\n    .dataframe tbody tr th:only-of-type {\n        vertical-align: middle;\n    }\n\n    .dataframe tbody tr th {\n        vertical-align: top;\n    }\n\n    .dataframe thead th {\n        text-align: right;\n    }\n</style>\n<table border=\"1\" class=\"dataframe\">\n  <thead>\n    <tr style=\"text-align: right;\">\n      <th></th>\n      <th>chronotrain_id</th>\n      <th>city</th>\n      <th>Airport</th>\n      <th>Country</th>\n      <th>IATA airport code</th>\n      <th>ICAO airport code</th>\n    </tr>\n  </thead>\n  <tbody>\n    <tr>\n      <th>0</th>\n      <td>8302063.0</td>\n      <td>Tirana</td>\n      <td>Tirana Airport</td>\n      <td>Albania</td>\n      <td>TIA</td>\n      <td>LATI</td>\n    </tr>\n    <tr>\n      <th>1</th>\n      <td>NaN</td>\n      <td>Zvartnots</td>\n      <td>Yerevan Zvartnots Airport</td>\n      <td>Armenia</td>\n      <td>EVN</td>\n      <td>UDYZ</td>\n    </tr>\n    <tr>\n      <th>2</th>\n      <td>2778067.0</td>\n      <td>Graz</td>\n      <td>Graz Airport</td>\n      <td>Austria</td>\n      <td>GRZ</td>\n      <td>LOWG</td>\n    </tr>\n    <tr>\n      <th>3</th>\n      <td>2775220.0</td>\n      <td>Innsbruck</td>\n      <td>Innsbruck Airport</td>\n      <td>Austria</td>\n      <td>INN</td>\n      <td>LOWI</td>\n    </tr>\n    <tr>\n      <th>4</th>\n      <td>2774326.0</td>\n      <td>Klagenfurt</td>\n      <td>Klagenfurt Airport</td>\n      <td>Austria</td>\n      <td>KLU</td>\n      <td>LOWK</td>\n    </tr>\n  </tbody>\n</table>\n</div>"
     },
     "execution_count": 17,
     "metadata": {},
     "output_type": "execute_result"
    }
   ],
   "source": [
    "chronotrain_ids = pd.read_csv(\"../data/chronotrains.csv\")\n",
    "chronotrain_ids.head()"
   ]
  },
  {
   "cell_type": "markdown",
   "id": "9294a7bd-6d9e-4f01-9ff2-8bb22fa130a9",
   "metadata": {},
   "source": [
    "# City data"
   ]
  },
  {
   "cell_type": "code",
   "execution_count": 18,
   "id": "61f898d8-deda-40dd-b66a-363c46879f69",
   "metadata": {
    "ExecuteTime": {
     "end_time": "2024-01-05T13:57:15.482431400Z",
     "start_time": "2024-01-05T13:57:15.376185100Z"
    }
   },
   "outputs": [
    {
     "data": {
      "text/plain": "         city        lat        lng\n0      Tirana  41.327546  19.818698\n1   Zvartnots  40.165270  44.342783\n2        Graz  47.070714  15.439504\n3   Innsbruck  47.269212  11.404102\n4  Klagenfurt  46.636460  14.312225",
      "text/html": "<div>\n<style scoped>\n    .dataframe tbody tr th:only-of-type {\n        vertical-align: middle;\n    }\n\n    .dataframe tbody tr th {\n        vertical-align: top;\n    }\n\n    .dataframe thead th {\n        text-align: right;\n    }\n</style>\n<table border=\"1\" class=\"dataframe\">\n  <thead>\n    <tr style=\"text-align: right;\">\n      <th></th>\n      <th>city</th>\n      <th>lat</th>\n      <th>lng</th>\n    </tr>\n  </thead>\n  <tbody>\n    <tr>\n      <th>0</th>\n      <td>Tirana</td>\n      <td>41.327546</td>\n      <td>19.818698</td>\n    </tr>\n    <tr>\n      <th>1</th>\n      <td>Zvartnots</td>\n      <td>40.165270</td>\n      <td>44.342783</td>\n    </tr>\n    <tr>\n      <th>2</th>\n      <td>Graz</td>\n      <td>47.070714</td>\n      <td>15.439504</td>\n    </tr>\n    <tr>\n      <th>3</th>\n      <td>Innsbruck</td>\n      <td>47.269212</td>\n      <td>11.404102</td>\n    </tr>\n    <tr>\n      <th>4</th>\n      <td>Klagenfurt</td>\n      <td>46.636460</td>\n      <td>14.312225</td>\n    </tr>\n  </tbody>\n</table>\n</div>"
     },
     "execution_count": 18,
     "metadata": {},
     "output_type": "execute_result"
    }
   ],
   "source": [
    "city_coordinates = pd.read_csv(\"../data/city_coordinates.csv\")\n",
    "city_coordinates.head()"
   ]
  },
  {
   "cell_type": "markdown",
   "id": "2c290c95-9dd8-451f-9889-415315b24154",
   "metadata": {},
   "source": [
    "# All data merged"
   ]
  },
  {
   "cell_type": "code",
   "execution_count": 19,
   "id": "66e52473-f78b-44d0-a1dc-7fc4a2ae7970",
   "metadata": {
    "ExecuteTime": {
     "end_time": "2024-01-05T13:57:15.508434100Z",
     "start_time": "2024-01-05T13:57:15.392184800Z"
    }
   },
   "outputs": [
    {
     "data": {
      "text/plain": "   chronotrain_id        city                    Airport  Country  \\\n0       8302063.0      Tirana             Tirana Airport  Albania   \n1             NaN   Zvartnots  Yerevan Zvartnots Airport  Armenia   \n2       2778067.0        Graz               Graz Airport  Austria   \n3       2775220.0   Innsbruck          Innsbruck Airport  Austria   \n4       2774326.0  Klagenfurt         Klagenfurt Airport  Austria   \n\n  IATA airport code ICAO airport code iata_code  airport_lat  airport_lng  \\\n0               TIA              LATI       TIA     41.42190     19.71296   \n1               EVN              UDYZ       EVN     40.15250     44.40222   \n2               GRZ              LOWG       GRZ     46.99107     15.43963   \n3               INN              LOWI       INN     47.26022     11.34396   \n4               KLU              LOWK       KLU     46.64500     14.32667   \n\n    city_lat   city_lng iso_country_code                    neighbors  \n0  41.327546  19.818698              ALB                  MNE,GRC,MKD  \n1  40.165270  44.342783              ARM                  AZE,GEO,TUR  \n2  47.070714  15.439504              AUT  CZE,DEU,HUN,ITA,SVK,SVN,CHE  \n3  47.269212  11.404102              AUT  CZE,DEU,HUN,ITA,SVK,SVN,CHE  \n4  46.636460  14.312225              AUT  CZE,DEU,HUN,ITA,SVK,SVN,CHE  ",
      "text/html": "<div>\n<style scoped>\n    .dataframe tbody tr th:only-of-type {\n        vertical-align: middle;\n    }\n\n    .dataframe tbody tr th {\n        vertical-align: top;\n    }\n\n    .dataframe thead th {\n        text-align: right;\n    }\n</style>\n<table border=\"1\" class=\"dataframe\">\n  <thead>\n    <tr style=\"text-align: right;\">\n      <th></th>\n      <th>chronotrain_id</th>\n      <th>city</th>\n      <th>Airport</th>\n      <th>Country</th>\n      <th>IATA airport code</th>\n      <th>ICAO airport code</th>\n      <th>iata_code</th>\n      <th>airport_lat</th>\n      <th>airport_lng</th>\n      <th>city_lat</th>\n      <th>city_lng</th>\n      <th>iso_country_code</th>\n      <th>neighbors</th>\n    </tr>\n  </thead>\n  <tbody>\n    <tr>\n      <th>0</th>\n      <td>8302063.0</td>\n      <td>Tirana</td>\n      <td>Tirana Airport</td>\n      <td>Albania</td>\n      <td>TIA</td>\n      <td>LATI</td>\n      <td>TIA</td>\n      <td>41.42190</td>\n      <td>19.71296</td>\n      <td>41.327546</td>\n      <td>19.818698</td>\n      <td>ALB</td>\n      <td>MNE,GRC,MKD</td>\n    </tr>\n    <tr>\n      <th>1</th>\n      <td>NaN</td>\n      <td>Zvartnots</td>\n      <td>Yerevan Zvartnots Airport</td>\n      <td>Armenia</td>\n      <td>EVN</td>\n      <td>UDYZ</td>\n      <td>EVN</td>\n      <td>40.15250</td>\n      <td>44.40222</td>\n      <td>40.165270</td>\n      <td>44.342783</td>\n      <td>ARM</td>\n      <td>AZE,GEO,TUR</td>\n    </tr>\n    <tr>\n      <th>2</th>\n      <td>2778067.0</td>\n      <td>Graz</td>\n      <td>Graz Airport</td>\n      <td>Austria</td>\n      <td>GRZ</td>\n      <td>LOWG</td>\n      <td>GRZ</td>\n      <td>46.99107</td>\n      <td>15.43963</td>\n      <td>47.070714</td>\n      <td>15.439504</td>\n      <td>AUT</td>\n      <td>CZE,DEU,HUN,ITA,SVK,SVN,CHE</td>\n    </tr>\n    <tr>\n      <th>3</th>\n      <td>2775220.0</td>\n      <td>Innsbruck</td>\n      <td>Innsbruck Airport</td>\n      <td>Austria</td>\n      <td>INN</td>\n      <td>LOWI</td>\n      <td>INN</td>\n      <td>47.26022</td>\n      <td>11.34396</td>\n      <td>47.269212</td>\n      <td>11.404102</td>\n      <td>AUT</td>\n      <td>CZE,DEU,HUN,ITA,SVK,SVN,CHE</td>\n    </tr>\n    <tr>\n      <th>4</th>\n      <td>2774326.0</td>\n      <td>Klagenfurt</td>\n      <td>Klagenfurt Airport</td>\n      <td>Austria</td>\n      <td>KLU</td>\n      <td>LOWK</td>\n      <td>KLU</td>\n      <td>46.64500</td>\n      <td>14.32667</td>\n      <td>46.636460</td>\n      <td>14.312225</td>\n      <td>AUT</td>\n      <td>CZE,DEU,HUN,ITA,SVK,SVN,CHE</td>\n    </tr>\n  </tbody>\n</table>\n</div>"
     },
     "execution_count": 19,
     "metadata": {},
     "output_type": "execute_result"
    }
   ],
   "source": [
    "all_data = chronotrain_ids.merge(airport_coordinates, left_on=\"IATA airport code\", right_on=\"iata_code\").merge(city_coordinates, on=\"city\")\n",
    "all_data = all_data.rename(columns={\n",
    "    \"lat_x\": \"airport_lat\",\n",
    "    \"lng_x\": \"airport_lng\",\n",
    "    \"lat_y\": \"city_lat\",\n",
    "    \"lng_y\": \"city_lng\"\n",
    "})\n",
    "all_data = all_data.merge(country_metadata, on=\"Country\")\n",
    "all_data.head()"
   ]
  },
  {
   "cell_type": "markdown",
   "id": "da6f4526-66ad-4bfe-84bb-90638fa204d8",
   "metadata": {},
   "source": [
    "## Only valid cities"
   ]
  },
  {
   "cell_type": "code",
   "execution_count": 20,
   "id": "5d62ed8d-c876-40de-b01c-a2a56474a6c8",
   "metadata": {
    "ExecuteTime": {
     "end_time": "2024-01-05T13:57:15.510435200Z",
     "start_time": "2024-01-05T13:57:15.408189400Z"
    }
   },
   "outputs": [
    {
     "data": {
      "text/plain": "   chronotrain_id        city             Airport  Country IATA airport code  \\\n0       8302063.0      Tirana      Tirana Airport  Albania               TIA   \n2       2778067.0        Graz        Graz Airport  Austria               GRZ   \n3       2775220.0   Innsbruck   Innsbruck Airport  Austria               INN   \n4       2774326.0  Klagenfurt  Klagenfurt Airport  Austria               KLU   \n5       2772400.0        Linz        Linz Airport  Austria               LNZ   \n\n  ICAO airport code iata_code  airport_lat  airport_lng   city_lat   city_lng  \\\n0              LATI       TIA     41.42190     19.71296  41.327546  19.818698   \n2              LOWG       GRZ     46.99107     15.43963  47.070714  15.439504   \n3              LOWI       INN     47.26022     11.34396  47.269212  11.404102   \n4              LOWK       KLU     46.64500     14.32667  46.636460  14.312225   \n5              LOWL       LNZ     48.23322     14.18751  48.306940  14.285830   \n\n  iso_country_code                    neighbors  \n0              ALB                  MNE,GRC,MKD  \n2              AUT  CZE,DEU,HUN,ITA,SVK,SVN,CHE  \n3              AUT  CZE,DEU,HUN,ITA,SVK,SVN,CHE  \n4              AUT  CZE,DEU,HUN,ITA,SVK,SVN,CHE  \n5              AUT  CZE,DEU,HUN,ITA,SVK,SVN,CHE  ",
      "text/html": "<div>\n<style scoped>\n    .dataframe tbody tr th:only-of-type {\n        vertical-align: middle;\n    }\n\n    .dataframe tbody tr th {\n        vertical-align: top;\n    }\n\n    .dataframe thead th {\n        text-align: right;\n    }\n</style>\n<table border=\"1\" class=\"dataframe\">\n  <thead>\n    <tr style=\"text-align: right;\">\n      <th></th>\n      <th>chronotrain_id</th>\n      <th>city</th>\n      <th>Airport</th>\n      <th>Country</th>\n      <th>IATA airport code</th>\n      <th>ICAO airport code</th>\n      <th>iata_code</th>\n      <th>airport_lat</th>\n      <th>airport_lng</th>\n      <th>city_lat</th>\n      <th>city_lng</th>\n      <th>iso_country_code</th>\n      <th>neighbors</th>\n    </tr>\n  </thead>\n  <tbody>\n    <tr>\n      <th>0</th>\n      <td>8302063.0</td>\n      <td>Tirana</td>\n      <td>Tirana Airport</td>\n      <td>Albania</td>\n      <td>TIA</td>\n      <td>LATI</td>\n      <td>TIA</td>\n      <td>41.42190</td>\n      <td>19.71296</td>\n      <td>41.327546</td>\n      <td>19.818698</td>\n      <td>ALB</td>\n      <td>MNE,GRC,MKD</td>\n    </tr>\n    <tr>\n      <th>2</th>\n      <td>2778067.0</td>\n      <td>Graz</td>\n      <td>Graz Airport</td>\n      <td>Austria</td>\n      <td>GRZ</td>\n      <td>LOWG</td>\n      <td>GRZ</td>\n      <td>46.99107</td>\n      <td>15.43963</td>\n      <td>47.070714</td>\n      <td>15.439504</td>\n      <td>AUT</td>\n      <td>CZE,DEU,HUN,ITA,SVK,SVN,CHE</td>\n    </tr>\n    <tr>\n      <th>3</th>\n      <td>2775220.0</td>\n      <td>Innsbruck</td>\n      <td>Innsbruck Airport</td>\n      <td>Austria</td>\n      <td>INN</td>\n      <td>LOWI</td>\n      <td>INN</td>\n      <td>47.26022</td>\n      <td>11.34396</td>\n      <td>47.269212</td>\n      <td>11.404102</td>\n      <td>AUT</td>\n      <td>CZE,DEU,HUN,ITA,SVK,SVN,CHE</td>\n    </tr>\n    <tr>\n      <th>4</th>\n      <td>2774326.0</td>\n      <td>Klagenfurt</td>\n      <td>Klagenfurt Airport</td>\n      <td>Austria</td>\n      <td>KLU</td>\n      <td>LOWK</td>\n      <td>KLU</td>\n      <td>46.64500</td>\n      <td>14.32667</td>\n      <td>46.636460</td>\n      <td>14.312225</td>\n      <td>AUT</td>\n      <td>CZE,DEU,HUN,ITA,SVK,SVN,CHE</td>\n    </tr>\n    <tr>\n      <th>5</th>\n      <td>2772400.0</td>\n      <td>Linz</td>\n      <td>Linz Airport</td>\n      <td>Austria</td>\n      <td>LNZ</td>\n      <td>LOWL</td>\n      <td>LNZ</td>\n      <td>48.23322</td>\n      <td>14.18751</td>\n      <td>48.306940</td>\n      <td>14.285830</td>\n      <td>AUT</td>\n      <td>CZE,DEU,HUN,ITA,SVK,SVN,CHE</td>\n    </tr>\n  </tbody>\n</table>\n</div>"
     },
     "execution_count": 20,
     "metadata": {},
     "output_type": "execute_result"
    }
   ],
   "source": [
    "valid_data = all_data.dropna()\n",
    "valid_data.head()"
   ]
  },
  {
   "cell_type": "markdown",
   "id": "b131db7e-964a-4ac5-bff0-31ddcfe8bfc3",
   "metadata": {},
   "source": [
    "# Network data"
   ]
  },
  {
   "cell_type": "markdown",
   "id": "a7ab21fc-696b-4b2b-9f08-384f1b445a91",
   "metadata": {},
   "source": [
    "## Countries and their neighbors"
   ]
  },
  {
   "cell_type": "code",
   "execution_count": 21,
   "id": "e232c845-a7b8-43d7-9cec-51669bd63d72",
   "metadata": {
    "ExecuteTime": {
     "end_time": "2024-01-05T13:57:15.511434800Z",
     "start_time": "2024-01-05T13:57:15.424431400Z"
    }
   },
   "outputs": [
    {
     "name": "stdout",
     "output_type": "stream",
     "text": [
      "All countries: ['ALB', 'MNE', 'GRC', 'MKD', 'ARM', 'AZE', 'GEO', 'TUR', 'AUT', 'CZE', 'DEU', 'HUN', 'ITA', 'SVK', 'SVN', 'CHE', 'RUS', 'BLR', 'LVA', 'LTU', 'POL', 'UKR', 'BEL', 'FRA', 'LUX', 'NLD', 'BIH', 'HRV', 'SRB', 'BGR', 'ROU', 'DNK', 'EST', 'FIN', 'NOR', 'SWE', 'ESP', 'GBR', 'IRL', 'KAZ', 'XKK', 'MDA', 'PRT']\n"
     ]
    }
   ],
   "source": [
    "country_g = nx.read_gml(\"../data/country_network.gml\")\n",
    "print(\"All countries:\", country_g.nodes)"
   ]
  },
  {
   "cell_type": "code",
   "execution_count": 22,
   "id": "a83ada0d-551b-43e4-9aae-256367147ca1",
   "metadata": {
    "ExecuteTime": {
     "end_time": "2024-01-05T13:57:15.528751600Z",
     "start_time": "2024-01-05T13:57:15.439431400Z"
    }
   },
   "outputs": [
    {
     "name": "stdout",
     "output_type": "stream",
     "text": [
      "France neighboring countries: ['DEU', 'ITA', 'CHE', 'BEL', 'LUX', 'ESP', 'GBR']\n"
     ]
    }
   ],
   "source": [
    "## Neighboring countries of france\n",
    "print(\"France neighboring countries:\",list(country_g[\"FRA\"]))"
   ]
  },
  {
   "cell_type": "markdown",
   "id": "b70ea824-c1b4-4cf8-9e73-1785bb707df1",
   "metadata": {},
   "source": [
    "## Train ride data"
   ]
  },
  {
   "cell_type": "code",
   "execution_count": 23,
   "id": "4c023b9f-fef3-4646-ad3e-c67bc36f3553",
   "metadata": {
    "ExecuteTime": {
     "end_time": "2024-01-05T13:57:15.646259800Z",
     "start_time": "2024-01-05T13:57:15.454431300Z"
    }
   },
   "outputs": [
    {
     "name": "stdout",
     "output_type": "stream",
     "text": [
      "Sample of cities:  ['Tirana', 'Graz', 'Innsbruck', 'Klagenfurt', 'Linz', 'Salzburg', 'Vienna', 'Baku', 'Minsk', 'Antwerp', 'Brussels', 'Charleroi', 'Liege', 'Ostend', 'Tuzla', 'Burgas', 'Sofia', 'Varna', 'Pula', 'Rijeka', 'Split', 'Zagreb', 'Brno', 'Prague', 'Aalborg', 'Aarhus', 'Copenhagen', 'Helsinki', 'Oulu', 'Rovaniemi', 'Tampere', 'Turku', 'Vaasa', 'Bastia', 'Bergerac', 'Biarritz', 'Bordeaux', 'Brest', 'Lille', 'Lyon-St', 'Marseille', 'Montpellier', 'Nantes', 'Nice', 'Paris', 'Rennes', 'Réunion', 'Strasbourg', 'Toulouse', 'Memmingen']\n"
     ]
    }
   ],
   "source": [
    "# How to get nodes\n",
    "train_g = nx.read_gml(\"../data/city_train_network_duration.gml\")\n",
    "print(\"Sample of cities: \", list(train_g.nodes)[0:50])"
   ]
  },
  {
   "cell_type": "code",
   "execution_count": 24,
   "id": "f61823a9-dcad-4f07-be3c-fdef76c36bc9",
   "metadata": {
    "ExecuteTime": {
     "end_time": "2024-01-05T13:57:15.647260500Z",
     "start_time": "2024-01-05T13:57:15.532752Z"
    }
   },
   "outputs": [
    {
     "name": "stdout",
     "output_type": "stream",
     "text": [
      "{'Graz': {'weight': 177}, 'Innsbruck': {'weight': 375}, 'Klagenfurt': {'weight': 146}, 'Linz': {'weight': 338}, 'Salzburg': {'weight': 250}, 'Vienna': {'weight': 338}, 'Rijeka': {'weight': 179}, 'Split': {'weight': 548}, 'Zagreb': {'weight': 130}, 'Budapest': {'weight': 451}, 'Debrecen': {'weight': 621}, 'Ancona': {'weight': 511}, 'Bari': {'weight': 712}, 'Bergamo': {'weight': 449}, 'Bologna': {'weight': 360}, 'Florence': {'weight': 423}, 'Genoa': {'weight': 533}, 'Milan': {'weight': 423}, 'Naples': {'weight': 584}, 'Olbia': {'weight': 491}, 'Perugia': {'weight': 528}, 'Pescara': {'weight': 565}, 'Pisa': {'weight': 491}, 'Rome': {'weight': 490}, 'Treviso': {'weight': 281}, 'Trieste': {'weight': 159}, 'Turin': {'weight': 477}, 'Verona': {'weight': 349}}\n"
     ]
    }
   ],
   "source": [
    "## Conections of nodes\n",
    "## Each city is only conected to the cities in the same country or cities in neighboring countries\n",
    "print(train_g[\"Ljubljana\"])"
   ]
  },
  {
   "cell_type": "code",
   "execution_count": 25,
   "id": "6058a119-d2b8-4484-a182-e7b3ebe146fb",
   "metadata": {
    "ExecuteTime": {
     "end_time": "2024-01-05T13:57:15.663260400Z",
     "start_time": "2024-01-05T13:57:15.549751500Z"
    }
   },
   "outputs": [
    {
     "name": "stdout",
     "output_type": "stream",
     "text": [
      "Shortest weighted path:  ['Ljubljana', 'Salzburg', 'Munich', 'Nuremberg', 'Hamburg', 'Copenhagen', 'Malmö', 'Stockholm']\n",
      "Shortest weighted path:  1304\n"
     ]
    },
    {
     "data": {
      "text/plain": "1304"
     },
     "execution_count": 25,
     "metadata": {},
     "output_type": "execute_result"
    }
   ],
   "source": [
    "## Shortest path\n",
    "path = nx.shortest_path(train_g, \"Ljubljana\", \"Stockholm\", weight=\"weight\")\n",
    "print(\"Shortest weighted path: \", path)\n",
    "print(\"Shortest weighted path: \", nx.shortest_path_length(train_g, \"Ljubljana\", \"Stockholm\", weight=\"weight\"))\n",
    "\n",
    "## Length of any path\n",
    "nx.path_weight(train_g, path, weight=\"weight\")"
   ]
  },
  {
   "cell_type": "markdown",
   "id": "47801cc3-5b64-450b-b78a-5e88e8dae031",
   "metadata": {},
   "source": [
    "## Car ride data"
   ]
  },
  {
   "cell_type": "code",
   "execution_count": 26,
   "id": "584818cc-1911-461f-b075-8943987c5c7f",
   "metadata": {
    "ExecuteTime": {
     "end_time": "2024-01-05T13:57:16.465046800Z",
     "start_time": "2024-01-05T13:57:15.564751600Z"
    }
   },
   "outputs": [
    {
     "name": "stdout",
     "output_type": "stream",
     "text": [
      "Sample of cities:  ['Graz', 'Tirana', 'Zvartnots', 'Innsbruck', 'Klagenfurt', 'Linz', 'Salzburg', 'Vienna', 'Baku', 'Minsk', 'Antwerp', 'Brussels', 'Charleroi', 'Liege', 'Ostend', 'Sarajevo', 'Tuzla', 'Burgas', 'Sofia', 'Varna', 'Dubrovnik', 'Pula', 'Rijeka', 'Zadar', 'Zagreb', 'Larnaca', 'Paphos', 'Brno', 'Prague', 'Aalborg', 'Aarhus', 'Billund', 'Copenhagen', 'Vágar', 'Tallinn', 'Helsinki', 'Kittilä', 'Oulu', 'Rovaniemi', 'Tampere', 'Turku', 'Vaasa', 'Ajaccio', 'Bastia', 'Bergerac', 'Biarritz', 'Bordeaux', 'Brest', 'Figari', 'Lille']\n"
     ]
    }
   ],
   "source": [
    "car_g = nx.read_gml(\"../data/city_car_network.gml\")\n",
    "print(\"Sample of cities: \", list(car_g.nodes)[0:50])"
   ]
  },
  {
   "cell_type": "code",
   "execution_count": 30,
   "id": "bfc27b0c-f214-4842-8205-e9f80aad1e28",
   "metadata": {
    "ExecuteTime": {
     "end_time": "2024-01-05T13:57:26.845703Z",
     "start_time": "2024-01-05T13:57:26.835695700Z"
    }
   },
   "outputs": [
    {
     "name": "stdout",
     "output_type": "stream",
     "text": [
      "[('Graz', {'distance': 193423, 'duration': 8001}), ('Tirana', {'distance': 933925, 'duration': 43341}), ('Zvartnots', {'distance': 3110936, 'duration': 119101}), ('Innsbruck', {'distance': 447904, 'duration': 17922}), ('Klagenfurt', {'distance': 85962, 'duration': 5297}), ('Linz', {'distance': 410203, 'duration': 15581}), ('Salzburg', {'distance': 287198, 'duration': 11754}), ('Vienna', {'distance': 380123, 'duration': 14443}), ('Baku', {'distance': 3675402, 'duration': 148993}), ('Minsk', {'distance': 1596368, 'duration': 58739}), ('Antwerp', {'distance': 1187972, 'duration': 44888}), ('Brussels', {'distance': 1155243, 'duration': 44539}), ('Charleroi', {'distance': 1132080, 'duration': 43133}), ('Liege', {'distance': 1072306, 'duration': 41299}), ('Ostend', {'distance': 1269594, 'duration': 48399}), ('Sarajevo', {'distance': 537898, 'duration': 21874}), ('Tuzla', {'distance': 1536699, 'duration': 53711}), ('Burgas', {'distance': 1312272, 'duration': 44562}), ('Sofia', {'distance': 921293, 'duration': 32593}), ('Varna', {'distance': 1362980, 'duration': 50257}), ('Dubrovnik', {'distance': 661083, 'duration': 25920}), ('Pula', {'distance': 204279, 'duration': 8922}), ('Rijeka', {'distance': 115455, 'duration': 6588}), ('Zadar', {'distance': 342900, 'duration': 14414}), ('Zagreb', {'distance': 141458, 'duration': 6243}), ('Larnaca', {'distance': 2560418, 'duration': 106904}), ('Paphos', {'distance': 2664146, 'duration': 110562}), ('Brno', {'distance': 510130, 'duration': 19626}), ('Prague', {'distance': 652297, 'duration': 26234}), ('Aalborg', {'distance': 1647654, 'duration': 60192}), ('Aarhus', {'distance': 1538222, 'duration': 56506}), ('Billund', {'distance': 1483186, 'duration': 54577}), ('Copenhagen', {'distance': 1393026, 'duration': 57341}), ('Vágar', {'distance': 2933878, 'duration': 198249}), ('Tallinn', {'distance': 2020908, 'duration': 79404}), ('Helsinki', {'distance': 2108973, 'duration': 91177}), ('Kittilä', {'distance': 3239774, 'duration': 129585}), ('Oulu', {'distance': 2717836, 'duration': 115784}), ('Rovaniemi', {'distance': 3178024, 'duration': 126510}), ('Tampere', {'distance': 2286961, 'duration': 98207}), ('Turku', {'distance': 2274441, 'duration': 97118}), ('Vaasa', {'distance': 2528241, 'duration': 107757}), ('Ajaccio', {'distance': 886936, 'duration': 50732}), ('Bastia', {'distance': 738508, 'duration': 41752}), ('Bergerac', {'distance': 1401154, 'duration': 50632}), ('Biarritz', {'distance': 1661967, 'duration': 58508}), ('Bordeaux', {'distance': 1489624, 'duration': 53292}), ('Brest', {'distance': 1831897, 'duration': 65182}), ('Figari', {'distance': 900757, 'duration': 51273}), ('Lille', {'distance': 1240240, 'duration': 47135})]\n"
     ]
    }
   ],
   "source": [
    "## Conections of nodes\n",
    "## In this case each city has a connection to all other cities and two weights\n",
    "## distance is measured in meters\n",
    "## duration is measured in seconds\n",
    "print(list(dict(car_g[\"Ljubljana\"]).items())[0:50])"
   ]
  },
  {
   "cell_type": "code",
   "execution_count": 31,
   "id": "ee43bf27-7b3d-464d-a3b5-f360987a6d99",
   "metadata": {
    "ExecuteTime": {
     "end_time": "2024-01-05T13:57:28.095723400Z",
     "start_time": "2024-01-05T13:57:28.087716400Z"
    }
   },
   "outputs": [
    {
     "data": {
      "text/plain": "{'distance': 2037178, 'duration': 80805}"
     },
     "execution_count": 31,
     "metadata": {},
     "output_type": "execute_result"
    }
   ],
   "source": [
    "## Shortest path Ljubljan and Sweeden\n",
    "## Does not need to the nx.shortest_path algorithm as all nodes should be connected (a few exceptions exist)\n",
    "car_g[\"Ljubljana\"][\"Stockholm\"]"
   ]
  },
  {
   "cell_type": "markdown",
   "source": [
    "# Airport Network\n",
    "Nodes contain iata codes and city names as attributes.\n",
    "Edges contain only distance"
   ],
   "metadata": {
    "collapsed": false
   },
   "id": "86a0b4ecfb4a35e1"
  },
  {
   "cell_type": "code",
   "outputs": [
    {
     "name": "stdout",
     "output_type": "stream",
     "text": [
      "[('TIA', {'city': 'Tirana'}), ('EVN', {'city': 'Zvartnots'}), ('GRZ', {'city': 'Graz'}), ('INN', {'city': 'Innsbruck'}), ('KLU', {'city': 'Klagenfurt'})]\n",
      "[('TIA', 'EVN', {'distance': 2076331}), ('TIA', 'GRZ', {'distance': 706492}), ('TIA', 'INN', {'distance': 928731}), ('TIA', 'KLU', {'distance': 722607}), ('TIA', 'LNZ', {'distance': 873242})]\n"
     ]
    }
   ],
   "source": [
    "airport_network = nx.read_gml(\"../data/airport_network.gml\")\n",
    "print(list(airport_network.nodes(data=True))[0:5])\n",
    "print(list(airport_network.edges(data=True))[0:5])"
   ],
   "metadata": {
    "collapsed": false,
    "ExecuteTime": {
     "end_time": "2024-01-05T14:05:04.923364500Z",
     "start_time": "2024-01-05T14:05:03.974574700Z"
    }
   },
   "id": "18222843cc6ea393",
   "execution_count": 52
  },
  {
   "cell_type": "markdown",
   "source": [
    "# Flight Network\n",
    "\n",
    "Nodes contain city names to combine them with other networks.\n",
    "Edges contain distance and estimated duration."
   ],
   "metadata": {
    "collapsed": false
   },
   "id": "193cee2bebad274d"
  },
  {
   "cell_type": "code",
   "outputs": [
    {
     "data": {
      "text/plain": "[('TIA', 'EVN', {'distance': 2076331, 'duration': 11967}),\n ('TIA', 'GRZ', {'distance': 706492, 'duration': 5634}),\n ('TIA', 'INN', {'distance': 928731, 'duration': 6661}),\n ('TIA', 'KLU', {'distance': 722607, 'duration': 5708}),\n ('TIA', 'LNZ', {'distance': 873242, 'duration': 6405})]"
     },
     "execution_count": 53,
     "metadata": {},
     "output_type": "execute_result"
    }
   ],
   "source": [
    "flight_network = nx.read_gml(\"../data/flight_network.gml\")\n",
    "list(flight_network.edges(data=True))[0:5]"
   ],
   "metadata": {
    "collapsed": false,
    "ExecuteTime": {
     "end_time": "2024-01-05T14:05:06.065254600Z",
     "start_time": "2024-01-05T14:05:04.924364900Z"
    }
   },
   "id": "3707e8276e5f9953",
   "execution_count": 53
  },
  {
   "cell_type": "code",
   "outputs": [],
   "source": [],
   "metadata": {
    "collapsed": false
   },
   "id": "526428269e1ed98b"
  }
 ],
 "metadata": {
  "kernelspec": {
   "display_name": "Python 3 (ipykernel)",
   "language": "python",
   "name": "python3"
  },
  "language_info": {
   "codemirror_mode": {
    "name": "ipython",
    "version": 3
   },
   "file_extension": ".py",
   "mimetype": "text/x-python",
   "name": "python",
   "nbconvert_exporter": "python",
   "pygments_lexer": "ipython3",
   "version": "3.11.4"
  }
 },
 "nbformat": 4,
 "nbformat_minor": 5
}
