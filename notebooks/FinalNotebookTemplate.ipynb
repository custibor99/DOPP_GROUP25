{
 "cells": [
  {
   "cell_type": "markdown",
   "id": "2e81bdad-96b5-4bdc-9d2e-8ee3cd54890a",
   "metadata": {},
   "source": [
    "# Analysis if travel times in europe\n",
    "\n",
    "## Table of Contents\n",
    "* [Introduction](#Introduction)\n",
    "    * [Why is this topic important?](#Why-is-this-topic-important)\n",
    "    * [Questions](#Questions)\n",
    "* [Data gathering](#Data)\n",
    "    * [Data sources](#Data-Sources)\n",
    "    * [Car travel data](#Car-travel-data)\n",
    "    * [Train travel data](#Train-travel-data)\n",
    "        * [Duration estimation](#Train-Duration-Estimation)\n",
    "    * [Air travel data](#Air-travel-data)\n",
    "        * [Duration estimations](#Air-Duration-Estimation)\n",
    "* [Analysis](#chapter3)\n",
    "    * [Section 3.1](#section_3_1)\n",
    "        * [Sub Section 3.1.1](#sub_section_3_1_1)\n",
    "        * [Sub Section 3.1.2](#sub_section_3_1_2)\n",
    "    * [Section 3.2](#section_3_2)\n",
    "        * [Sub Section 3.2.1](#sub_section_3_2_1)\n",
    "## Introduction\n",
    "This notebook contains the analysis of travel data inside europe between cities with or that are close to major airports. \n",
    "### Why is this topic important\n",
    "Analyzing travel times in Europe holds significance in optimizing the overall travel experience, ensuring efficiency, and promoting accessibility to diverse destinations. This analysis informs strategic infrastructure development, enabling authorities to address bottlenecks and prioritize key projects for economic growth. Efficient travel times contribute to sustainability, reducing fuel consumption and emissions, while also influencing urban planning for more livable cities. By streamlining transportation, Europe can foster economic development, attract investments, and enhance the interconnectedness of its regions. In essence, the examination of travel times is pivotal for creating a well-connected, environmentally conscious, and economically vibrant European transportation landscape.\n",
    "\n",
    "This report targets:\n",
    "- Urban planers, who can use this data to help them create well connected cities which increasses accessibility\n",
    "- Enviromental advocates, who can use this data to promote more efficient travel options\n",
    "- Travelers, who need to find the fastes way between two citties\n",
    "### Questions\n",
    "Based on why we think the topic is important, we have decided to anwser the following questions:\n",
    "- How much faster is it to travel by plane than car/train\n",
    "- Are there routes on which rail leads to shorter journey times than road and air travel? \n",
    "- On which routes is the travel duration above average?\n",
    "- Which is the most well-connected city in Europe in terms of minimising travel times to other cities? \n",
    "\n",
    "## Data\n",
    "Since we were unable to find datasets which would contain all needed data, we have decided to build our own. This notebook does not contain all of the coded needed to gather and process data as the process takes multiple hours and also requires 2 different API keys. The code that generates the data with additional istructions is freely available on [github](https://github.com/custibor99/DOPP_GROUP25/blob/main/docs/data_docs.md). Hovwever this notebook will contain data source descriptions and simplified overview of some processing methods.\n",
    "### Data Sources\n",
    "The folowing data sources have been used in the project:\n",
    "- [List of largest european airports](https://airmundo.com/en/blog/airport-codes-european-airports/) according to AirMundo travel agency.\n",
    "- [Pythons countryinfo package](https://github.com/porimol/countryinfo) for getting neighborings of european countries.\n",
    "- [Chronotrains API](https://www.chronotrains.com/en) was used for obtaining train travel times between different cities\n",
    "- [Google Maps Geocode API](https://developers.google.com/maps/documentation/geocoding/overview) were used for obtaining latitude and longitude coordinates of cities\n",
    "- [Google maps distance matrix api](https://developers.google.com/maps/documentation/distance-matrix/overview) used for obtaining driving distances and durations between cities.\n",
    "- Airlabs [Airports](https://airlabs.co/docs/airports) and [Schedules](https://airlabs.co/docs/schedules) API used for getting airport coordinates and snapshots of flight schedules.\n",
    "\n",
    "### Car travel data\n",
    "Car travel data has been obtained using googles [Google Maps Geocode API](https://developers.google.com/maps/documentation/geocoding/overview) and [Google maps distance matrix api](https://developers.google.com/maps/documentation/distance-matrix/overview). Below is a sample code whic display how the request can be made in python.\n",
    "```python\n",
    "import requests\n",
    "city = \"LJUBLJANA\"\n",
    "key = \"KEY\"\n",
    "url = f\"https://maps.googleapis.com/maps/api/geocode/json?address={city}&key={key}\"\n",
    "url_parsed = urllib.parse.quote(url, safe=\"://=?&\")\n",
    "response = requests.get(url_parsed)\n",
    "```\n",
    "The response is a json object containing data about city coordinates.\n",
    "### Train travel data \n",
    "The train travel data was obtained using the [Chronotrains API](https://www.chronotrains.com/en). The website uses estimations from Deutsche Bahn. There are 2 awailable endpoints which can be used without a API key. Their usage is shown below.\n"
   ]
  },
  {
   "cell_type": "code",
   "execution_count": 8,
   "id": "47314f20-e385-4dd4-bfa2-fe4fee5595f9",
   "metadata": {},
   "outputs": [
    {
     "data": {
      "text/plain": [
       "{'name': 'Ljubljana',\n",
       " 'aliases': [3196359],\n",
       " 'i18nNames': {'cs': 'Lublaň',\n",
       "  'da': 'Ljubljana',\n",
       "  'de': 'Laibach',\n",
       "  'en': 'Ljubljana',\n",
       "  'es': 'Liubliana',\n",
       "  'fr': 'Ljubljana',\n",
       "  'it': 'Lubiana',\n",
       "  'nb': 'Ljubljana',\n",
       "  'nl': 'Ljubljana',\n",
       "  'pl': 'Lublana',\n",
       "  'ro': 'Ljubljana',\n",
       "  'sv': 'Ljubljana'},\n",
       " 'countryCode': 'SI'}"
      ]
     },
     "execution_count": 8,
     "metadata": {},
     "output_type": "execute_result"
    }
   ],
   "source": [
    "import requests\n",
    "import urllib.parse\n",
    "url = f\"https://www.chronotrains.com/api/search/Ljubljana\"\n",
    "url_parsed = urllib.parse.quote(url, safe=\"://\")\n",
    "response = requests.get(url_parsed)\n",
    "response.json()[0]"
   ]
  },
  {
   "cell_type": "markdown",
   "id": "7864975f-f8b5-46a6-b3c8-9ded330219a8",
   "metadata": {},
   "source": [
    "The aliases object represents the ID of the train station that can be used to find distances between strations."
   ]
  },
  {
   "cell_type": "code",
   "execution_count": 13,
   "id": "30ae295e-0db6-40d4-ae20-88da37a5721b",
   "metadata": {},
   "outputs": [
    {
     "data": {
      "text/plain": [
       "{'originId': 3196359,\n",
       " 'destinationId': 724443,\n",
       " 'duration': 681,\n",
       " 'changes': 2,\n",
       " 'estimatedPrice': None,\n",
       " 'estimatedPriceCurrency': None,\n",
       " 'journey': [3196359, 7900279, 5500008, 724443],\n",
       " 'geom': 'gjaxGa`pwAkPi}C~fAdwAhvJwqJoq@g}C~{@p\\\\dqG_wRycC_wGxeCctFg|@syVpb@oyHtjE}lEzKe`Fw~Hg`J{{AadYguAyAkmD{|Nit@fwCsqClO{h@tdKebE`wDwrCskGipDboCor@crFgcJ_DejEghFvyBop_@{fHrXwM{yGobD}zCmdBgrK}sIkVs~FyjSrCyi_@ynD_|HnwD_zt@mvCm}@g_MjwDw}A}kIq|Ef~EihO}cGogChsF{tIjxBc}OwxAaqAscB{{Aet[??e`Dsts@}{DoxV||DcpYctFgkFwWccFqeG__IchHetEcv@qlLusG}qTgyF}Cs`Hr|Cq_I{uBleEyqN|tB{c[bfF}~Mn@ciEmgN_r[rbCol@oe@gfJp|BgqKawAgsNrgC_`Csq@upL{{GinWlU_fEw`EupEprCydJsYsiaAgqJ_{WkhPa|SgvHqkTodFyzY_`IdkB??s_Dkb[oaBnp@{nAcmJajFqtJm`GxPlTuwVo`EkeCitCokKtsCgkXa`EeeKa|B}x@x_AsoImlC}yh@}vE}mUquFapnAg_\\\\{f`Ae_DamCydKszAw{Qp{FdjAecOw|T{aIq~Xyzb@qz_@}uRokQcnPi~V~bI'}"
      ]
     },
     "execution_count": 13,
     "metadata": {},
     "output_type": "execute_result"
    }
   ],
   "source": [
    "url = f\"https://www.chronotrains.com/api/trip/3196359/724443\"\n",
    "url_parsed = urllib.parse.quote(url, safe=\"://\")\n",
    "response = requests.get(url_parsed)\n",
    "response.json()[\"suggestion\"]"
   ]
  },
  {
   "cell_type": "markdown",
   "id": "76d25002-8fca-4ceb-8651-43ffc71ba7fb",
   "metadata": {},
   "source": [
    "#### Train Duration Estimation \n",
    "The provided estimations were mostly resonable when you were traveling inside a country and between neighboring countries, but if we wanted to recive an estimate for a long route that would travel between multiple countries the API did not produce any results. This is why we have decided to estimate the train travel durations. The idea of the algorithms is that we get the travel times between cities in the same country and neighboring countries and connect them in a graph. Afterwards we can use a shortest path algorithm to estimate the duration of any path as long as their exist a connection in the graph. The graph creation pseudo code is provided below\n",
    "```\n",
    "Create an empty graph G\n",
    "Add all cities to G as nodes\n",
    "For each city in a country:\n",
    "\t\tget the travel duration to all other cities in the country\n",
    "        add the travel durations to the graph\n",
    "\n",
    "\t\tget the travel durations to all cities from neighboring countries\n",
    "\t\tadd the travel durations to the graph\n",
    "```"
   ]
  },
  {
   "cell_type": "markdown",
   "id": "0f12c89c-2b2d-469f-9467-825d1eceae95",
   "metadata": {},
   "source": [
    "### Air travel data\n",
    "### Air Duration Estimation"
   ]
  },
  {
   "cell_type": "code",
   "execution_count": null,
   "id": "526d02a2-e12e-448b-8856-a4c80c20fddf",
   "metadata": {},
   "outputs": [],
   "source": []
  }
 ],
 "metadata": {
  "kernelspec": {
   "display_name": "Python 3 (ipykernel)",
   "language": "python",
   "name": "python3"
  },
  "language_info": {
   "codemirror_mode": {
    "name": "ipython",
    "version": 3
   },
   "file_extension": ".py",
   "mimetype": "text/x-python",
   "name": "python",
   "nbconvert_exporter": "python",
   "pygments_lexer": "ipython3",
   "version": "3.11.4"
  }
 },
 "nbformat": 4,
 "nbformat_minor": 5
}
